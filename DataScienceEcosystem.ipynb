{
 "cells": [
  {
   "cell_type": "markdown",
   "id": "c574e8cc-2c80-42e3-b432-bdf43ac2a901",
   "metadata": {},
   "source": [
    "# Data Science Tools and Ecosystem"
   ]
  },
  {
   "cell_type": "markdown",
   "id": "59d0afb5-9bc8-4bbc-b942-4ea22dd21af2",
   "metadata": {},
   "source": [
    "This is the summary of Data science Tools and Ecosystem."
   ]
  },
  {
   "cell_type": "markdown",
   "id": "27921f50-75f8-4f9a-b8a9-ce4ab4dc1c4e",
   "metadata": {},
   "source": [
    "**Objectives:**\n",
    "- Some of the common libraries used by most data scientists\n",
    "- Data Science Tools\n",
    "- Evaluating arithmatic expressions using python\n",
    "- Simple arithmatic expressions to multiplu then add integers "
   ]
  },
  {
   "cell_type": "markdown",
   "id": "491658e3-adbd-4e51-a31e-9fdc64118013",
   "metadata": {},
   "source": [
    "Some of the popular languages tha data scientists use are:\n",
    "1. Python\n",
    "2. R\n",
    "3. SQL\n"
   ]
  },
  {
   "cell_type": "markdown",
   "id": "a3ec5e59-1c05-4d3a-a1c9-afcf15191371",
   "metadata": {},
   "source": [
    "Some of the commonly used libraries used by most data scientists are\n",
    "1. Pandas\n",
    "2. NumPy\n",
    "3. Matplotlib\n",
    "4. Scikit-learn\n",
    "5. Tensorflow"
   ]
  },
  {
   "cell_type": "markdown",
   "id": "21b46a53-ef53-4b1b-b318-b64c0e5d0e08",
   "metadata": {},
   "source": [
    "| Data Science Tools |\n",
    "| -------------------|\n",
    "| Jupiter Notebook   |\n",
    "| RStudio            |\n",
    "| Spyder             |"
   ]
  },
  {
   "cell_type": "code",
   "execution_count": null,
   "id": "76b9dde2-c2bf-4066-bb37-14447cc1046b",
   "metadata": {},
   "outputs": [],
   "source": [
    "### Below are a few examples of evaluating arithmetic expressions in Python:\n"
   ]
  },
  {
   "cell_type": "code",
   "execution_count": 59,
   "id": "06382c88-e9b0-4cfd-ba46-667b30a4163e",
   "metadata": {},
   "outputs": [
    {
     "name": "stdout",
     "output_type": "stream",
     "text": [
      "18\n"
     ]
    }
   ],
   "source": [
    "a=6\n",
    "b=3\n",
    "c=a*b\n",
    "print (c)\n"
   ]
  },
  {
   "cell_type": "markdown",
   "id": "c5495994-8d10-480d-97de-f4d7c661624a",
   "metadata": {},
   "source": [
    "# This a simple arithmetic expression to mutiply then add integers"
   ]
  },
  {
   "cell_type": "code",
   "execution_count": 69,
   "id": "87a1cef6-9460-4026-8b77-a7f02aab7b30",
   "metadata": {},
   "outputs": [
    {
     "data": {
      "text/plain": [
       "17"
      ]
     },
     "execution_count": 69,
     "metadata": {},
     "output_type": "execute_result"
    }
   ],
   "source": [
    "(3*4)+5"
   ]
  },
  {
   "cell_type": "code",
   "execution_count": null,
   "id": "bf75b6b4-4dde-4dae-89f5-4d593e370215",
   "metadata": {},
   "outputs": [],
   "source": [
    "# This will convert 200 minutes to hours by diving by 60."
   ]
  },
  {
   "cell_type": "code",
   "execution_count": 71,
   "id": "254704b3-e0f8-43d6-8313-587961f83c41",
   "metadata": {},
   "outputs": [
    {
     "name": "stdout",
     "output_type": "stream",
     "text": [
      "3.3333333333333335\n"
     ]
    }
   ],
   "source": [
    "minutes=200\n",
    "hours=minutes/60\n",
    "print (hours)"
   ]
  },
  {
   "cell_type": "markdown",
   "id": "ce882ec1-4d38-40ad-b839-b6f8d4664618",
   "metadata": {},
   "source": [
    "## Author\n",
    "Abil Rai"
   ]
  },
  {
   "cell_type": "markdown",
   "id": "3f630e97-9bd9-4822-a723-261db3c7c239",
   "metadata": {},
   "source": []
  }
 ],
 "metadata": {
  "kernelspec": {
   "display_name": "Python 3 (ipykernel)",
   "language": "python",
   "name": "python3"
  },
  "language_info": {
   "codemirror_mode": {
    "name": "ipython",
    "version": 3
   },
   "file_extension": ".py",
   "mimetype": "text/x-python",
   "name": "python",
   "nbconvert_exporter": "python",
   "pygments_lexer": "ipython3",
   "version": "3.12.4"
  }
 },
 "nbformat": 4,
 "nbformat_minor": 5
}
